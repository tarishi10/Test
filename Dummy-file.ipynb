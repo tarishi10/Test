{
 "cells": [
  {
   "cell_type": "code",
   "execution_count": 1,
   "id": "fe4301f1-315d-4ced-8a6f-31ec5f5c331c",
   "metadata": {},
   "outputs": [],
   "source": [
    "# dummy file created"
   ]
  },
  {
   "cell_type": "code",
   "execution_count": 2,
   "id": "3c2b16c4-16c3-4841-9767-5c0a267cdf58",
   "metadata": {},
   "outputs": [],
   "source": [
    "# add new line"
   ]
  },
  {
   "cell_type": "code",
   "execution_count": null,
   "id": "59aad453-e09d-4646-93e3-420b55ed4ab0",
   "metadata": {},
   "outputs": [],
   "source": []
  }
 ],
 "metadata": {
  "kernelspec": {
   "display_name": "Python (quandl_env)",
   "language": "python",
   "name": "quandl_env"
  },
  "language_info": {
   "codemirror_mode": {
    "name": "ipython",
    "version": 3
   },
   "file_extension": ".py",
   "mimetype": "text/x-python",
   "name": "python",
   "nbconvert_exporter": "python",
   "pygments_lexer": "ipython3",
   "version": "3.12.7"
  }
 },
 "nbformat": 4,
 "nbformat_minor": 5
}
